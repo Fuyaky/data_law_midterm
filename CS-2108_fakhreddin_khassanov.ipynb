{
 "cells": [
  {
   "cell_type": "markdown",
   "id": "dbac09a6",
   "metadata": {},
   "source": [
    "#  Big Data in Law Enforcement\n"
   ]
  },
  {
   "cell_type": "markdown",
   "id": "d0b1d62b",
   "metadata": {},
   "source": [
    "## Introduction\n",
    "\n",
    "Big Data and Cyber Security are two critical domains in the modern world of technology and information. Big Data refers to the collection and analysis of vast amounts of data to extract valuable insights and patterns. It plays a crucial role in decision-making, business intelligence, and scientific research. On the other hand, Cyber Security focuses on protecting digital systems, networks, and sensitive information from unauthorized access, cyberattacks, and data breaches, ensuring the integrity and confidentiality of data in an increasingly interconnected world.\n"
   ]
  },
  {
   "cell_type": "markdown",
   "id": "5ac3f041",
   "metadata": {},
   "source": [
    "*Some of the popular languages that Data Scientists use are:*\n",
    "\n",
    "1. Python\n",
    "2. R\n",
    "3. SQL\n"
   ]
  },
  {
   "cell_type": "markdown",
   "id": "b2419193",
   "metadata": {},
   "source": [
    "| Data Science Tools   |\n",
    "|-----------------------|\n",
    "| Jupyter Notebook      |\n",
    "| Apache Spark          |\n",
    "| TensorFlow            |\n"
   ]
  },
  {
   "cell_type": "markdown",
   "id": "37bea8fe",
   "metadata": {},
   "source": [
    "### Evaluating Arithmetic Expressions in Python\n",
    "\n",
    "Below are a few examples of evaluating arithmetic expressions in Python:\n",
    "\n",
    "1. Addition: `2 + 3 = 5`\n",
    "2. Subtraction: `7 - 4 = 3`\n",
    "3. Multiplication: `6 * 8 = 48`\n",
    "4. Division: `10 / 2 = 5`\n",
    "5. Exponentiation: `2 ** 4 = 16`\n",
    "\n",
    "You can use Python as a versatile tool for performing various arithmetic operations.\n"
   ]
  },
  {
   "cell_type": "code",
   "execution_count": 2,
   "id": "721c7c33",
   "metadata": {},
   "outputs": [
    {
     "data": {
      "text/plain": [
       "33"
      ]
     },
     "execution_count": 2,
     "metadata": {},
     "output_type": "execute_result"
    }
   ],
   "source": [
    "result = (4 * 6) + 9\n",
    "result"
   ]
  },
  {
   "cell_type": "code",
   "execution_count": 3,
   "id": "2fc1754a",
   "metadata": {},
   "outputs": [
    {
     "data": {
      "text/plain": [
       "5.0"
      ]
     },
     "execution_count": 3,
     "metadata": {},
     "output_type": "execute_result"
    }
   ],
   "source": [
    "minutes = 300\n",
    "hours = minutes / 60\n",
    "hours"
   ]
  },
  {
   "cell_type": "markdown",
   "id": "afd7ce33",
   "metadata": {},
   "source": [
    "**Objectives**\n",
    "\n",
    "- Provide an introduction to Data Science and related domains.\n",
    "- List popular languages for Data Science.\n",
    "- Explain how to evaluate arithmetic expressions in Python.\n",
    "- Convert minutes to hours with Python.\n",
    "- Demonstrate the usage of markdown in Jupyter Notebook cells.\n"
   ]
  },
  {
   "cell_type": "markdown",
   "id": "12939039",
   "metadata": {},
   "source": [
    "## Author\n",
    "Fakhreddin Khassanov\n"
   ]
  },
  {
   "cell_type": "code",
   "execution_count": null,
   "id": "4766ac4d",
   "metadata": {},
   "outputs": [],
   "source": []
  }
 ],
 "metadata": {
  "kernelspec": {
   "display_name": "Python 3 (ipykernel)",
   "language": "python",
   "name": "python3"
  },
  "language_info": {
   "codemirror_mode": {
    "name": "ipython",
    "version": 3
   },
   "file_extension": ".py",
   "mimetype": "text/x-python",
   "name": "python",
   "nbconvert_exporter": "python",
   "pygments_lexer": "ipython3",
   "version": "3.11.5"
  }
 },
 "nbformat": 4,
 "nbformat_minor": 5
}
